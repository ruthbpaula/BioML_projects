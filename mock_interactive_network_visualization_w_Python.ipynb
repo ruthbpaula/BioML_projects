{
 "cells": [
  {
   "cell_type": "markdown",
   "id": "34f2cd48-24f4-4818-b645-d8a8e0f6ae86",
   "metadata": {},
   "source": [
    "# Creating interactive metabolite-protein network\n",
    "To create a webpage for displaying metabolite-protein networks using Python, you can use a combination of Dash for the web application framework and NetworkX along with Plotly or Cytoscape for visualizing the network. Here's a basic guide on how you can get started:\n",
    "\n",
    "Step 1: Install Required Libraries"
   ]
  },
  {
   "cell_type": "code",
   "execution_count": 2,
   "id": "1593ce2a-1c19-4338-9124-cfc03dae14f6",
   "metadata": {},
   "outputs": [
    {
     "name": "stdout",
     "output_type": "stream",
     "text": [
      "Collecting dash\n",
      "  Downloading dash-2.17.1-py3-none-any.whl (7.5 MB)\n",
      "Collecting dash-cytoscape\n",
      "  Downloading dash_cytoscape-1.0.2.tar.gz (4.0 MB)\n",
      "Requirement already satisfied: networkx in c:\\users\\ruthb\\anaconda3\\lib\\site-packages (2.6.3)\n",
      "Collecting typing-extensions>=4.1.1\n",
      "  Downloading typing_extensions-4.12.2-py3-none-any.whl (37 kB)\n",
      "Requirement already satisfied: setuptools in c:\\users\\ruthb\\anaconda3\\lib\\site-packages (from dash) (58.0.4)\n",
      "Collecting retrying\n",
      "  Downloading retrying-1.3.4-py3-none-any.whl (11 kB)\n",
      "Collecting dash-core-components==2.0.0\n",
      "  Downloading dash_core_components-2.0.0-py3-none-any.whl (3.8 kB)\n",
      "Requirement already satisfied: nest-asyncio in c:\\users\\ruthb\\anaconda3\\lib\\site-packages (from dash) (1.5.1)\n",
      "Collecting plotly>=5.0.0\n",
      "  Downloading plotly-5.23.0-py3-none-any.whl (17.3 MB)\n",
      "Requirement already satisfied: Werkzeug<3.1 in c:\\users\\ruthb\\anaconda3\\lib\\site-packages (from dash) (2.0.2)\n",
      "Requirement already satisfied: Flask<3.1,>=1.0.4 in c:\\users\\ruthb\\anaconda3\\lib\\site-packages (from dash) (1.1.2)\n",
      "Requirement already satisfied: requests in c:\\users\\ruthb\\anaconda3\\lib\\site-packages (from dash) (2.26.0)\n",
      "Collecting dash-table==5.0.0\n",
      "  Downloading dash_table-5.0.0-py3-none-any.whl (3.9 kB)\n",
      "Requirement already satisfied: importlib-metadata in c:\\users\\ruthb\\anaconda3\\lib\\site-packages (from dash) (4.8.1)\n",
      "Collecting dash-html-components==2.0.0\n",
      "  Downloading dash_html_components-2.0.0-py3-none-any.whl (4.1 kB)\n",
      "Requirement already satisfied: itsdangerous>=0.24 in c:\\users\\ruthb\\anaconda3\\lib\\site-packages (from Flask<3.1,>=1.0.4->dash) (2.0.1)\n",
      "Requirement already satisfied: Jinja2>=2.10.1 in c:\\users\\ruthb\\anaconda3\\lib\\site-packages (from Flask<3.1,>=1.0.4->dash) (2.11.3)\n",
      "Requirement already satisfied: click>=5.1 in c:\\users\\ruthb\\anaconda3\\lib\\site-packages (from Flask<3.1,>=1.0.4->dash) (8.0.3)\n",
      "Requirement already satisfied: colorama in c:\\users\\ruthb\\anaconda3\\lib\\site-packages (from click>=5.1->Flask<3.1,>=1.0.4->dash) (0.4.4)\n",
      "Requirement already satisfied: MarkupSafe>=0.23 in c:\\users\\ruthb\\anaconda3\\lib\\site-packages (from Jinja2>=2.10.1->Flask<3.1,>=1.0.4->dash) (1.1.1)\n",
      "Collecting tenacity>=6.2.0\n",
      "  Downloading tenacity-9.0.0-py3-none-any.whl (28 kB)\n",
      "Requirement already satisfied: packaging in c:\\users\\ruthb\\anaconda3\\lib\\site-packages (from plotly>=5.0.0->dash) (21.0)\n",
      "Requirement already satisfied: zipp>=0.5 in c:\\users\\ruthb\\anaconda3\\lib\\site-packages (from importlib-metadata->dash) (3.6.0)\n",
      "Requirement already satisfied: pyparsing>=2.0.2 in c:\\users\\ruthb\\anaconda3\\lib\\site-packages (from packaging->plotly>=5.0.0->dash) (3.0.4)\n",
      "Requirement already satisfied: idna<4,>=2.5 in c:\\users\\ruthb\\anaconda3\\lib\\site-packages (from requests->dash) (3.2)\n",
      "Requirement already satisfied: charset-normalizer~=2.0.0 in c:\\users\\ruthb\\anaconda3\\lib\\site-packages (from requests->dash) (2.0.4)\n",
      "Requirement already satisfied: certifi>=2017.4.17 in c:\\users\\ruthb\\anaconda3\\lib\\site-packages (from requests->dash) (2021.10.8)\n",
      "Requirement already satisfied: urllib3<1.27,>=1.21.1 in c:\\users\\ruthb\\anaconda3\\lib\\site-packages (from requests->dash) (1.26.7)\n",
      "Requirement already satisfied: six>=1.7.0 in c:\\users\\ruthb\\anaconda3\\lib\\site-packages (from retrying->dash) (1.16.0)\n",
      "Building wheels for collected packages: dash-cytoscape\n",
      "  Building wheel for dash-cytoscape (setup.py): started\n",
      "  Building wheel for dash-cytoscape (setup.py): finished with status 'done'\n",
      "  Created wheel for dash-cytoscape: filename=dash_cytoscape-1.0.2-py3-none-any.whl size=4010735 sha256=ff7b83e2358f7ae64ec91c5fc534ba3ecdbba609a9bf76704ba1228c1ada8bcb\n",
      "  Stored in directory: c:\\users\\ruthb\\appdata\\local\\pip\\cache\\wheels\\7f\\5d\\69\\48ee73398433d0efabd8521627493531f95cde3ab81805e0c1\n",
      "Successfully built dash-cytoscape\n",
      "Installing collected packages: tenacity, typing-extensions, retrying, plotly, dash-table, dash-html-components, dash-core-components, dash, dash-cytoscape\n",
      "  Attempting uninstall: typing-extensions\n",
      "    Found existing installation: typing-extensions 3.10.0.2\n",
      "    Uninstalling typing-extensions-3.10.0.2:\n",
      "      Successfully uninstalled typing-extensions-3.10.0.2\n",
      "Successfully installed dash-2.17.1 dash-core-components-2.0.0 dash-cytoscape-1.0.2 dash-html-components-2.0.0 dash-table-5.0.0 plotly-5.23.0 retrying-1.3.4 tenacity-9.0.0 typing-extensions-4.12.2\n",
      "Note: you may need to restart the kernel to use updated packages.\n"
     ]
    }
   ],
   "source": [
    "pip install dash dash-cytoscape networkx"
   ]
  },
  {
   "cell_type": "markdown",
   "id": "09ca2a8f-b8cc-427b-ac0f-ba80616474d8",
   "metadata": {},
   "source": [
    "Step 2: Create the Network Visualization\n",
    "You'll need to create a network graph that represents the metabolite-protein interactions. This can be done using NetworkX."
   ]
  },
  {
   "cell_type": "code",
   "execution_count": 3,
   "id": "ecea9059-afd2-4ad9-91b7-f39b4a7df703",
   "metadata": {},
   "outputs": [],
   "source": [
    "import networkx as nx\n",
    "\n",
    "# Create a NetworkX graph\n",
    "G = nx.Graph()\n",
    "\n",
    "# Add nodes (metabolites and proteins)\n",
    "G.add_node(\"Metabolite1\", color=\"blue\")\n",
    "G.add_node(\"Protein1\", color=\"red\")\n",
    "G.add_node(\"Protein2\", color=\"red\")\n",
    "\n",
    "# Add edges (interactions)\n",
    "G.add_edge(\"Metabolite1\", \"Protein1\")\n",
    "G.add_edge(\"Metabolite1\", \"Protein2\")\n",
    "\n",
    "# You can add more nodes and edges as per your data\n"
   ]
  },
  {
   "cell_type": "markdown",
   "id": "e8bf8bba-0ee7-4fe3-896d-5fe81a10f07a",
   "metadata": {},
   "source": [
    "Step 3: Create a Dash Application\n",
    "Now, you'll create a Dash application that uses Cytoscape to visualize the network."
   ]
  },
  {
   "cell_type": "code",
   "execution_count": 4,
   "id": "f85bc16b-65a5-4706-9190-e8c355bd5014",
   "metadata": {},
   "outputs": [
    {
     "data": {
      "text/html": [
       "\n",
       "        <iframe\n",
       "            width=\"100%\"\n",
       "            height=\"650\"\n",
       "            src=\"http://127.0.0.1:8050/\"\n",
       "            frameborder=\"0\"\n",
       "            allowfullscreen\n",
       "            \n",
       "        ></iframe>\n",
       "        "
      ],
      "text/plain": [
       "<IPython.lib.display.IFrame at 0x2b15f83dd00>"
      ]
     },
     "metadata": {},
     "output_type": "display_data"
    }
   ],
   "source": [
    "import dash\n",
    "import dash_cytoscape as cyto\n",
    "from dash import html\n",
    "\n",
    "app = dash.Dash(__name__)\n",
    "\n",
    "# Convert the NetworkX graph to a format suitable for Cytoscape\n",
    "elements = [\n",
    "    {\"data\": {\"id\": node, \"label\": node}, \"classes\": G.nodes[node]['color']}\n",
    "    for node in G.nodes\n",
    "] + [\n",
    "    {\"data\": {\"source\": edge[0], \"target\": edge[1]}}\n",
    "    for edge in G.edges\n",
    "]\n",
    "\n",
    "# Define the layout of the Dash app\n",
    "app.layout = html.Div([\n",
    "    cyto.Cytoscape(\n",
    "        id='cytoscape-network',\n",
    "        elements=elements,\n",
    "        layout={'name': 'cose'},  # Layout of the network\n",
    "        style={'width': '100%', 'height': '600px'},\n",
    "        stylesheet=[\n",
    "            {\n",
    "                \"selector\": '.blue',\n",
    "                \"style\": {\n",
    "                    \"background-color\": \"blue\",\n",
    "                    \"line-color\": \"blue\"\n",
    "                }\n",
    "            },\n",
    "            {\n",
    "                \"selector\": '.red',\n",
    "                \"style\": {\n",
    "                    \"background-color\": \"red\",\n",
    "                    \"line-color\": \"red\"\n",
    "                }\n",
    "            }\n",
    "        ]\n",
    "    )\n",
    "])\n",
    "\n",
    "if __name__ == '__main__':\n",
    "    app.run_server(debug=True)"
   ]
  },
  {
   "cell_type": "markdown",
   "id": "6b54abf1-7e14-4fa4-8aed-c435708f6023",
   "metadata": {},
   "source": [
    "Step 4: Run the Application\n",
    "After creating the app.py file with the above code, you can run it using the following command:"
   ]
  },
  {
   "cell_type": "code",
   "execution_count": 5,
   "id": "de1e630e-cba8-4295-b671-5d58da0c5021",
   "metadata": {},
   "outputs": [],
   "source": [
    "#python app.py"
   ]
  },
  {
   "cell_type": "markdown",
   "id": "3de42809-ed23-4963-9bb5-e6751bf63767",
   "metadata": {},
   "source": [
    "This will start a local web server, and you can view your network visualization by navigating to http://127.0.0.1:8050/ in your web browser."
   ]
  },
  {
   "cell_type": "markdown",
   "id": "cdba84fb-d508-41fa-b5a7-67d6cdef797b",
   "metadata": {},
   "source": [
    "# Providing metabolites and protein dataframes to calculate correlation matrix and color nodes\n",
    "To create a NetworkX graph based on two dataframes—one for metabolites and one for proteins—where rows represent samples, and columns represent either metabolites or proteins, you can follow these steps:"
   ]
  },
  {
   "cell_type": "markdown",
   "id": "f5c640ab-d859-4094-8e8b-625105e3a648",
   "metadata": {},
   "source": [
    "Step 1: Import Libraries"
   ]
  },
  {
   "cell_type": "code",
   "execution_count": 18,
   "id": "6e6cc276-7142-43be-be49-166714ee839b",
   "metadata": {},
   "outputs": [],
   "source": [
    "import dash\n",
    "import dash_cytoscape as cyto\n",
    "from dash import html\n",
    "import pandas as pd\n",
    "import networkx as nx\n",
    "import matplotlib.colors as mcolors"
   ]
  },
  {
   "cell_type": "markdown",
   "id": "c2a84bf1-7cc8-423f-827a-e2dcb8d6b8ff",
   "metadata": {},
   "source": [
    "Step 2: Prepare the Data\n",
    "Let's assume you have two dataframes:\n",
    "\n",
    "df_metabolites: Rows are samples, columns are metabolites.\n",
    "df_proteins: Rows are samples, columns are proteins.\n",
    "Here is an example of how these dataframes might look:"
   ]
  },
  {
   "cell_type": "code",
   "execution_count": 19,
   "id": "29956a49-8611-4516-bfb5-0304fbfdf1f2",
   "metadata": {},
   "outputs": [
    {
     "name": "stdout",
     "output_type": "stream",
     "text": [
      "   Metabolite1  Metabolite2  Metabolite3\n",
      "0          0.8         -0.6          0.4\n",
      "1          0.1          0.9         -0.7\n",
      "2         -0.5          0.0          0.2\n",
      "   Protein1  Protein2  Protein3\n",
      "0       0.7      -0.5       0.9\n",
      "1      -0.2       0.8       0.3\n",
      "2       0.4       0.0      -0.6\n"
     ]
    }
   ],
   "source": [
    "# Example dataframes\n",
    "data_metabolites = {\n",
    "    'Metabolite1': [0.8, 0.1, -0.5],\n",
    "    'Metabolite2': [-0.6, 0.9, 0.0],\n",
    "    'Metabolite3': [0.4, -0.7, 0.2]\n",
    "}\n",
    "\n",
    "data_proteins = {\n",
    "    'Protein1': [0.7, -0.2, 0.4],\n",
    "    'Protein2': [-0.5, 0.8, 0.0],\n",
    "    'Protein3': [0.9, 0.3, -0.6]\n",
    "}\n",
    "\n",
    "df_metabolites = pd.DataFrame(data_metabolites)\n",
    "df_proteins = pd.DataFrame(data_proteins)\n",
    "\n",
    "print(df_metabolites)\n",
    "print(df_proteins)"
   ]
  },
  {
   "cell_type": "markdown",
   "id": "25988327-bef6-4490-a473-39609353e942",
   "metadata": {},
   "source": [
    "Step 3: Create the NetworkX Graph\n",
    "You'll want to create edges between metabolites and proteins based on some criteria. A common approach is to create an edge if the correlation between a metabolite and a protein across samples is above a certain threshold."
   ]
  },
  {
   "cell_type": "code",
   "execution_count": 20,
   "id": "daf48cd5-55ad-46bb-bacb-b14dcee8e868",
   "metadata": {},
   "outputs": [
    {
     "name": "stdout",
     "output_type": "stream",
     "text": [
      "Graph with 18 nodes and 15 edges\n",
      "['Metabolite1_0', 'Metabolite1_1', 'Metabolite1_2', 'Metabolite2_0', 'Metabolite2_1', 'Metabolite2_2', 'Metabolite3_0', 'Metabolite3_1', 'Metabolite3_2', 'Protein1_0', 'Protein1_1', 'Protein1_2', 'Protein2_0', 'Protein2_1', 'Protein2_2', 'Protein3_0', 'Protein3_1', 'Protein3_2']\n",
      "[('Metabolite1_0', 'Protein3_0', {'weight': 0.9873316923407114}), ('Metabolite1_1', 'Protein3_1', {'weight': 0.9873316923407114}), ('Metabolite1_2', 'Protein3_2', {'weight': 0.9873316923407114}), ('Metabolite2_0', 'Protein1_0', {'weight': -0.9971764649527378}), ('Metabolite2_0', 'Protein2_0', {'weight': 0.9998469895178864}), ('Metabolite2_1', 'Protein1_1', {'weight': -0.9971764649527378}), ('Metabolite2_1', 'Protein2_1', {'weight': 0.9998469895178864}), ('Metabolite2_2', 'Protein1_2', {'weight': -0.9971764649527378}), ('Metabolite2_2', 'Protein2_2', {'weight': 0.9998469895178864}), ('Metabolite3_0', 'Protein1_0', {'weight': 0.9869115726091126}), ('Metabolite3_0', 'Protein2_0', {'weight': -0.9759758129875402}), ('Metabolite3_1', 'Protein1_1', {'weight': 0.9869115726091126}), ('Metabolite3_1', 'Protein2_1', {'weight': -0.9759758129875402}), ('Metabolite3_2', 'Protein1_2', {'weight': 0.9869115726091126}), ('Metabolite3_2', 'Protein2_2', {'weight': -0.9759758129875402})]\n"
     ]
    }
   ],
   "source": [
    "# Function to map values to colors\n",
    "def value_to_color(value):\n",
    "    norm = mcolors.Normalize(vmin=-1, vmax=1)\n",
    "    cmap = mcolors.LinearSegmentedColormap.from_list(\"red_white_blue\", [\"blue\", \"white\", \"red\"])\n",
    "    return mcolors.to_hex(cmap(norm(value)))\n",
    "\n",
    "# Create a graph\n",
    "G = nx.Graph()\n",
    "\n",
    "# Add metabolites as nodes\n",
    "for metabolite in df_metabolites.columns:\n",
    "    for i, value in enumerate(df_metabolites[metabolite]):\n",
    "        G.add_node(f\"{metabolite}_{i}\", type='metabolite', value=value, color=value_to_color(value))\n",
    "\n",
    "# Add proteins as nodes\n",
    "for protein in df_proteins.columns:\n",
    "    for i, value in enumerate(df_proteins[protein]):\n",
    "        G.add_node(f\"{protein}_{i}\", type='protein', value=value, color=value_to_color(value))\n",
    "\n",
    "# Add edges based on correlation (example threshold correlation between first elements)\n",
    "threshold = 0.5  # Define a threshold for correlation\n",
    "\n",
    "for i in range(df_metabolites.shape[0]):\n",
    "    for metabolite in df_metabolites.columns:\n",
    "        for protein in df_proteins.columns:\n",
    "            correlation = df_metabolites[metabolite].corr(df_proteins[protein])\n",
    "            if abs(correlation) > threshold:\n",
    "                G.add_edge(f\"{metabolite}_{i}\", f\"{protein}_{i}\", weight=correlation)\n",
    "\n",
    "# Optionally, you can print or inspect the graph\n",
    "print(G)\n",
    "print(G.nodes())\n",
    "print(G.edges(data=True))"
   ]
  },
  {
   "cell_type": "markdown",
   "id": "e091b5c8-bb0b-4f0a-ae29-5b9b03aeaf30",
   "metadata": {},
   "source": [
    "Step 4: Analyze and Visualize\n",
    "Now that you've created the network graph, you can proceed to visualize it or perform further analysis. Here’s a simple way to visualize it:"
   ]
  },
  {
   "cell_type": "code",
   "execution_count": 21,
   "id": "47500d46-2403-4514-bb96-145fea7cece2",
   "metadata": {},
   "outputs": [
    {
     "data": {
      "image/png": "[encoded data removed]",
      "text/plain": [
       "<Figure size 432x288 with 1 Axes>"
      ]
     },
     "metadata": {},
     "output_type": "display_data"
    }
   ],
   "source": [
    "import matplotlib.pyplot as plt\n",
    "\n",
    "# Draw the graph\n",
    "pos = nx.spring_layout(G)  # Layout for visual representation\n",
    "nx.draw(G, pos, with_labels=True, node_color='skyblue', edge_color='gray', node_size=2000, font_size=10)\n",
    "\n",
    "# Draw edge labels (optional, showing correlation)\n",
    "edge_labels = nx.get_edge_attributes(G, 'weight')\n",
    "nx.draw_networkx_edge_labels(G, pos, edge_labels=edge_labels)\n",
    "\n",
    "plt.show()"
   ]
  },
  {
   "cell_type": "markdown",
   "id": "9485f8af-b3ea-4213-b4b7-11958d389f88",
   "metadata": {},
   "source": [
    "To create a dynamic visualization of your metabolite-protein network using Cytoscape within a Dash application, you can follow these steps:\n",
    "\n",
    "Step 1: Install Required Libraries"
   ]
  },
  {
   "cell_type": "code",
   "execution_count": 12,
   "id": "a31c1580-6e0c-41bc-a16b-ad0f63f7a486",
   "metadata": {},
   "outputs": [],
   "source": [
    "#pip install dash dash-cytoscape pandas networkx"
   ]
  },
  {
   "cell_type": "markdown",
   "id": "0188122b-d3cd-4773-b9e0-a5292a21dc2d",
   "metadata": {},
   "source": [
    "Step 2 (need to run previous steps for network generation): Convert the NetworkX Graph to Cytoscape Elements\n",
    "Convert your NetworkX graph to a format that Cytoscape can use."
   ]
  },
  {
   "cell_type": "code",
   "execution_count": 22,
   "id": "8c0b07fb-dec7-43af-8be9-1b25972cfdef",
   "metadata": {},
   "outputs": [],
   "source": [
    "# Convert the NetworkX graph to a Cytoscape format\n",
    "elements = [\n",
    "    {\"data\": {\"id\": node, \"label\": node.split('_')[0], \"node_type\": G.nodes[node]['type']}, \"style\": {\"background-color\": G.nodes[node]['color']}}\n",
    "    for node in G.nodes\n",
    "] + [\n",
    "    {\"data\": {\"source\": edge[0], \"target\": edge[1], \"weight\": G.edges[edge]['weight']}}\n",
    "    for edge in G.edges\n",
    "]"
   ]
  },
  {
   "cell_type": "markdown",
   "id": "582ba27f-d0d3-4407-8a48-b9cc0c0ad76f",
   "metadata": {},
   "source": [
    "Step 3: Create the Dash Application with Cytoscape\n",
    "Create the Dash application to visualize the network dynamically."
   ]
  },
  {
   "cell_type": "code",
   "execution_count": 23,
   "id": "ca9512f2-739c-49a3-bd6c-6f21d9861b34",
   "metadata": {},
   "outputs": [
    {
     "data": {
      "text/html": [
       "\n",
       "        <iframe\n",
       "            width=\"100%\"\n",
       "            height=\"650\"\n",
       "            src=\"http://127.0.0.1:8050/\"\n",
       "            frameborder=\"0\"\n",
       "            allowfullscreen\n",
       "            \n",
       "        ></iframe>\n",
       "        "
      ],
      "text/plain": [
       "<IPython.lib.display.IFrame at 0x2b163620a90>"
      ]
     },
     "metadata": {},
     "output_type": "display_data"
    }
   ],
   "source": [
    "import dash\n",
    "import dash_cytoscape as cyto\n",
    "from dash import html\n",
    "\n",
    "app = dash.Dash(__name__)\n",
    "\n",
    "app.layout = html.Div([\n",
    "    cyto.Cytoscape(\n",
    "        id='cytoscape-network',\n",
    "        elements=elements,\n",
    "        layout={'name': 'cose'},  # Layout of the network\n",
    "        style={'width': '100%', 'height': '600px'},\n",
    "        stylesheet=[\n",
    "            {\n",
    "                \"selector\": '[node_type=\"metabolite\"]',\n",
    "                \"style\": {\n",
    "                    \"label\": \"data(label)\"\n",
    "                }\n",
    "            },\n",
    "            {\n",
    "                \"selector\": '[node_type=\"protein\"]',\n",
    "                \"style\": {\n",
    "                    \"shape\": \"diamond\",  # Change shape to diamond\n",
    "                    \"label\": \"data(label)\"\n",
    "                }\n",
    "            },\n",
    "            {\n",
    "                \"selector\": 'edge',\n",
    "                \"style\": {\n",
    "                    \"width\": \"mapData(weight, 0, 1, 1, 5)\",  # Adjust width based on weight\n",
    "                    \"line-color\": \"gray\"\n",
    "                }\n",
    "            }\n",
    "        ]\n",
    "    )\n",
    "])\n",
    "\n",
    "if __name__ == '__main__':\n",
    "    app.run_server(debug=True)"
   ]
  },
  {
   "cell_type": "markdown",
   "id": "a6eb8f42-283b-4555-a341-8c7aff3c7579",
   "metadata": {},
   "source": [
    "# Providing correlation matrix from external source\n",
    "Assume you have:\n",
    "\n",
    "correlation_df: A dataframe with correlations between metabolites and proteins.\n",
    "df_metabolites: A dataframe with metabolite values.\n",
    "df_proteins: A dataframe with protein values."
   ]
  },
  {
   "cell_type": "markdown",
   "id": "5dd4eb4e-0497-48a4-9d16-9aa76db56ff8",
   "metadata": {},
   "source": [
    "Step 1: Prepare the Data\n",
    "Assume you have:\n",
    "\n",
    "correlation_df: A dataframe with correlations between metabolites and proteins.\n",
    "df_metabolites: A dataframe with metabolite values.\n",
    "df_proteins: A dataframe with protein values."
   ]
  },
  {
   "cell_type": "code",
   "execution_count": 28,
   "id": "aa964b85-2f3f-4421-85b0-7df60c0e60bd",
   "metadata": {},
   "outputs": [],
   "source": [
    "import dash\n",
    "import dash_cytoscape as cyto\n",
    "from dash import html\n",
    "import pandas as pd\n",
    "import networkx as nx\n",
    "import matplotlib.colors as mcolors\n",
    "\n",
    "# Example correlation table (external source)\n",
    "# Rows represent metabolite-protein pairs with a correlation value\n",
    "correlation_data = {\n",
    "    'Metabolite': ['Metabolite1', 'Metabolite1', 'Metabolite2', 'Metabolite3'],\n",
    "    'Protein': ['Protein1', 'Protein2', 'Protein1', 'Protein3'],\n",
    "    'Correlation': [0.8, -0.6, 0.4, 0.9]\n",
    "}\n",
    "df_correlations = pd.DataFrame(correlation_data)\n",
    "\n",
    "# Example metabolite dataframe (used for node coloring)\n",
    "data_metabolites = {\n",
    "    'Metabolite1': [0.8, 0.1, -0.5],\n",
    "    'Metabolite2': [-0.6, 0.9, 0.0],\n",
    "    'Metabolite3': [0.4, -0.7, 0.2]\n",
    "}\n",
    "df_metabolites = pd.DataFrame(data_metabolites)\n",
    "\n",
    "# Example protein dataframe (used for node coloring)\n",
    "data_proteins = {\n",
    "    'Protein1': [0.7, -0.2, 0.4],\n",
    "    'Protein2': [-0.5, 0.8, 0.0],\n",
    "    'Protein3': [0.9, 0.3, -0.6]\n",
    "}\n",
    "df_proteins = pd.DataFrame(data_proteins)"
   ]
  },
  {
   "cell_type": "markdown",
   "id": "218b167e-c452-4358-a5c0-d3936f9d9473",
   "metadata": {},
   "source": [
    "Step 2: Create the Dash Application"
   ]
  },
  {
   "cell_type": "code",
   "execution_count": 29,
   "id": "4798bad8-d962-45b6-9518-691abac16cac",
   "metadata": {},
   "outputs": [
    {
     "data": {
      "text/html": [
       "\n",
       "        <iframe\n",
       "            width=\"100%\"\n",
       "            height=\"650\"\n",
       "            src=\"http://127.0.0.1:8050/\"\n",
       "            frameborder=\"0\"\n",
       "            allowfullscreen\n",
       "            \n",
       "        ></iframe>\n",
       "        "
      ],
      "text/plain": [
       "<IPython.lib.display.IFrame at 0x2b1635d0280>"
      ]
     },
     "metadata": {},
     "output_type": "display_data"
    }
   ],
   "source": [
    "# Function to map values to colors\n",
    "def value_to_color(value):\n",
    "    norm = mcolors.Normalize(vmin=-1, vmax=1)\n",
    "    cmap = mcolors.LinearSegmentedColormap.from_list(\"red_white_blue\", [\"blue\", \"white\", \"red\"])\n",
    "    return mcolors.to_hex(cmap(norm(value)))\n",
    "\n",
    "# Create a NetworkX graph\n",
    "G = nx.Graph()\n",
    "\n",
    "# Add nodes from metabolites dataframe\n",
    "for metabolite in df_metabolites.columns:\n",
    "    avg_value = df_metabolites[metabolite].mean()  # Calculate average value for coloring\n",
    "    G.add_node(metabolite, type='metabolite', color=value_to_color(avg_value))\n",
    "\n",
    "# Add nodes from proteins dataframe\n",
    "for protein in df_proteins.columns:\n",
    "    avg_value = df_proteins[protein].mean()  # Calculate average value for coloring\n",
    "    G.add_node(protein, type='protein', color=value_to_color(avg_value))\n",
    "\n",
    "# Add edges from the correlation table\n",
    "for index, row in df_correlations.iterrows():\n",
    "    G.add_edge(row['Metabolite'], row['Protein'], weight=row['Correlation'])\n",
    "\n",
    "# Convert the NetworkX graph to a Cytoscape format\n",
    "elements = [\n",
    "    {\"data\": {\"id\": node, \"label\": node, \"node_type\": G.nodes[node]['type']}, \"style\": {\"background-color\": G.nodes[node]['color']}}\n",
    "    for node in G.nodes\n",
    "] + [\n",
    "    {\"data\": {\"source\": edge[0], \"target\": edge[1], \"weight\": G.edges[edge]['weight']}}\n",
    "    for edge in G.edges\n",
    "]\n",
    "\n",
    "# Create the Dash app\n",
    "app = dash.Dash(__name__)\n",
    "\n",
    "app.layout = html.Div([\n",
    "    cyto.Cytoscape(\n",
    "        id='cytoscape-network',\n",
    "        elements=elements,\n",
    "        layout={'name': 'cose'},  # Layout of the network\n",
    "        style={'width': '100%', 'height': '600px'},\n",
    "        stylesheet=[\n",
    "            {\n",
    "                \"selector\": '[node_type=\"metabolite\"]',\n",
    "                \"style\": {\n",
    "                    \"label\": \"data(label)\"\n",
    "                }\n",
    "            },\n",
    "            {\n",
    "                \"selector\": '[node_type=\"protein\"]',\n",
    "                \"style\": {\n",
    "                    \"shape\": \"diamond\",  # Change shape to diamond\n",
    "                    \"label\": \"data(label)\"\n",
    "                }\n",
    "            },\n",
    "            {\n",
    "                \"selector\": 'edge',\n",
    "                \"style\": {\n",
    "                    \"width\": \"mapData(weight, 0, 1, 1, 5)\",  # Adjust width based on weight\n",
    "                    \"line-color\": \"gray\"\n",
    "                }\n",
    "            }\n",
    "        ]\n",
    "    )\n",
    "])\n",
    "\n",
    "if __name__ == '__main__':\n",
    "    app.run_server(debug=True)"
   ]
  },
  {
   "cell_type": "markdown",
   "id": "7ebc3f66-e525-44c5-a5f1-f25687ee8b42",
   "metadata": {},
   "source": [
    "Optional: Subsetting a correlation matrix/network to only include interactors within a distance of up to 2 chemical reactions"
   ]
  },
  {
   "cell_type": "code",
   "execution_count": 30,
   "id": "edb29a90-81c7-4a1b-b2d4-149ed6c26567",
   "metadata": {},
   "outputs": [],
   "source": [
    "# Step 3: Subset the graph to include nodes within 2 chemical reactions of a central gene\n",
    "central_gene = 'Protein1'\n",
    "\n",
    "# Get neighbors within 2 steps\n",
    "subgraph_nodes = set(nx.single_source_shortest_path_length(G, central_gene, cutoff=2).keys())\n",
    "\n",
    "# Create a subgraph\n",
    "subgraph = G.subgraph(subgraph_nodes).copy()"
   ]
  },
  {
   "cell_type": "code",
   "execution_count": null,
   "id": "77c0e489-c115-42aa-8299-996ff6bf5c16",
   "metadata": {},
   "outputs": [],
   "source": []
  }
 ],
 "metadata": {
  "kernelspec": {
   "display_name": "Python 3 (ipykernel)",
   "language": "python",
   "name": "python3"
  },
  "language_info": {
   "codemirror_mode": {
    "name": "ipython",
    "version": 3
   },
   "file_extension": ".py",
   "mimetype": "text/x-python",
   "name": "python",
   "nbconvert_exporter": "python",
   "pygments_lexer": "ipython3",
   "version": "3.9.7"
  }
 },
 "nbformat": 4,
 "nbformat_minor": 5
}
